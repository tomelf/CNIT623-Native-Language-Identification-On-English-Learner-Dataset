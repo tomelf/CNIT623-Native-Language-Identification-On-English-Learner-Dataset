{
 "cells": [
  {
   "cell_type": "markdown",
   "metadata": {},
   "source": [
    "## Dataset\n",
    "\n",
    "### Introduction\n",
    "\n",
    "UD English-ESL/TLE is a collection of 5,124 English as a Second Language (ESL) sentences (97,681 words), manually annotated with POS tags and dependency trees in the Universal Dependencies formalism. Each sentence is annotated both in its original and error corrected forms. The annotations follow the standard English UD guidelines, along with a set of supplementary guidelines for ESL. The dataset represents upper-intermediate level adult English learners from 10 native language backgrounds, with over 500 sentences for each native language. The sentences were randomly drawn from the Cambridge Learner Corpus First Certificate in English (FCE) corpus. The treebank is split randomly to a training set of 4,124 sentences, development set of 500 sentences and a test set of 500 sentences. Further information is available at esltreebank.org\n",
    "\n",
    "### File format\n",
    "\n",
    "#### Raw data\n",
    "\n",
    "Exam questions:\n",
    "dataset/UD_English-ESL/fce-released-dataset/prompts/[folders]/doc[number].xml\n",
    "\n",
    "Learner answers:\n",
    "dataset/UD_English-ESL/fce-released-dataset/dataset/[folders]/doc[number].xml\n",
    "\n",
    "Each xml file contains the textual answers for 2 exams written by a English learner. The following are the attribute tags:\n",
    "- language: native language of the learner\n",
    "- age: age range of the learner\n",
    "- score: ??\n",
    "\n",
    "For each exam:\n",
    "- question_number\n",
    "- exam_score\n",
    "- coded_answer: text content of answer (with tags of FCE error codes)\n",
    "\n",
    "The details of exams and tags of FCE error codes can be found in dataset/UD_English-ESL/fce-released-dataset/dataset/README\n",
    "\n",
    "#### Labeled data in CoNLL-U format\n",
    "\n",
    "The labeled dataset is built in CoNLL-U format.\n",
    "\n",
    "Original sentences:  \n",
    "- dataset/UD_English-ESL/data/en_esl-ud-train.conllu  \n",
    "- dataset/UD_English-ESL/data/en_esl-ud-dev.conllu  \n",
    "- dataset/UD_English-ESL/data/en_esl-ud-test.conllu  \n",
    "\n",
    "Corrected sentences:  \n",
    "- dataset/UD_English-ESL/data/corrected/en_cesl-ud-train.conllu  \n",
    "- dataset/UD_English-ESL/data/corrected/en_cesl-ud-dev.conllu  \n",
    "- dataset/UD_English-ESL/data/corrected/en_cesl-ud-test.conllu  \n",
    "\n",
    "\n",
    "The following are the attributes for each word in a sentence:  \n",
    "['id', 'form', 'lemma', 'upostag', 'xpostag', 'feats', 'head', 'deprel', 'deps', 'misc']\n",
    "\n",
    "- id: index of word in sentence  \n",
    "- form: word  \n",
    "- lemma:  \n",
    "- upostag: POS tag  \n",
    "- xpostag: POS tag  \n",
    "- feats:  \n",
    "- head:  \n",
    "- deprel:  \n",
    "- deps:  \n",
    "- misc:\n",
    "\n",
    "(\"_\" means null)\n",
    "\n",
    "Example of the representation of word:  \n",
    "([('id', 1), ('form', 'I'), ('lemma', '_'), ('upostag', 'PRON'), ('xpostag', 'PRP'), ('feats', None), ('head', 3), ('deprel','nsubj'), ('deps', None), ('misc', None)])\n",
    "\n"
   ]
  },
  {
   "cell_type": "code",
   "execution_count": 2,
   "metadata": {},
   "outputs": [
    {
     "name": "stdout",
     "output_type": "stream",
     "text": [
      "# of train data: 4124\n",
      "# of dev data: 500\n",
      "# of test data: 500\n"
     ]
    }
   ],
   "source": [
    "import data_loader\n",
    "data_loader.main()"
   ]
  },
  {
   "cell_type": "code",
   "execution_count": null,
   "metadata": {},
   "outputs": [],
   "source": []
  }
 ],
 "metadata": {
  "kernelspec": {
   "display_name": "Python 3",
   "language": "python",
   "name": "python3"
  },
  "language_info": {
   "codemirror_mode": {
    "name": "ipython",
    "version": 3
   },
   "file_extension": ".py",
   "mimetype": "text/x-python",
   "name": "python",
   "nbconvert_exporter": "python",
   "pygments_lexer": "ipython3",
   "version": "3.5.2"
  }
 },
 "nbformat": 4,
 "nbformat_minor": 2
}
